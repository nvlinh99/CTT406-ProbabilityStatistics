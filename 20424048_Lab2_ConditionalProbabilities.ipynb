{
 "cells": [
  {
   "cell_type": "markdown",
   "metadata": {},
   "source": [
    "### MÔN: THỐNG KÊ MÁY TÍNH & ỨNG DỤNG"
   ]
  },
  {
   "cell_type": "markdown",
   "metadata": {},
   "source": [
    "### Họ tên: **Nguyễn Vũ Linh** - MSSV: **20424048** - Lớp: **20HCB1**"
   ]
  },
  {
   "cell_type": "markdown",
   "metadata": {},
   "source": [
    "**BÀI 1: Xét thí nghiệm tung một đồng xu đồng chất 3 lần, kiểm tra xem các cặp biến cố sau đây có độc lập không:**\n",
    "\n",
    "1. $A$: lần $1$ được mặt ngửa, $B$: lần $2$ và lần $3$ được mặt sấp.\n",
    "2. $A$: lần $1$ được mặt ngửa, $B$: có đúng $2$ lần được mặt sấp.\n",
    "3. $A$: lần $1$ được mặt ngửa, $B$: có đúng $2$ $\\text{lần liên tiếp}$ được mặt sấp.\n",
    "4. $A$: lần $2$ được mặt ngửa, $B$: có đúng $2$ $\\text{lần liên tiếp}$ được mặt sấp."
   ]
  },
  {
   "cell_type": "markdown",
   "metadata": {},
   "source": [
    "$$ \\text{BÀI LÀM} $$"
   ]
  },
  {
   "cell_type": "markdown",
   "metadata": {},
   "source": [
    "$$ \\text {Để cặp biến cố A, B độc lập} \\Leftrightarrow P(A|B) = P(A) => \\frac{P(A \\cap B)}{P(B)},(P(B) \\ne 0) = P(A) => P(A \\cap B) = P(A)P(B) \\text{(*)}$$"
   ]
  },
  {
   "cell_type": "markdown",
   "metadata": {},
   "source": [
    "Tung đồng xu đồng chất 3 lần: $ \\Omega = \\text{{NSS, NSN, NNS, NNN, SSN, SNS, SNN, SSS}}$"
   ]
  },
  {
   "cell_type": "markdown",
   "metadata": {},
   "source": [
    "1. $A$: lần $1$ được mặt ngửa, $B$: lần $2$ và lần $3$ được mặt sấp."
   ]
  },
  {
   "cell_type": "markdown",
   "metadata": {},
   "source": [
    "$P(A) = \\frac{|A|}{|\\Omega|} = \\frac{4}{8} = \\frac{1}{2}$, $P(B) = \\frac{|B|}{|\\Omega|} = \\frac{2}{8} = \\frac{1}{4}$, $P(A \\cap B) = |A \\cap B| = \\frac{1}{8}$"
   ]
  },
  {
   "cell_type": "markdown",
   "metadata": {},
   "source": [
    "Từ (*), ta có: $ P(A \\cap B) = P(A)P(B) \\Leftrightarrow \\frac{1}{8} = \\frac{1}{2} * \\frac{1}{4} \\Leftrightarrow \\frac{1}{8} = \\frac{1}{8} \\text{(luôn đúng)}$"
   ]
  },
  {
   "cell_type": "markdown",
   "metadata": {},
   "source": [
    "**Vậy cặp biến cố** $A, B$ $ \\text{độc lập}$"
   ]
  },
  {
   "cell_type": "code",
   "execution_count": 1,
   "metadata": {},
   "outputs": [
    {
     "name": "stdout",
     "output_type": "stream",
     "text": [
      "Cặp biến cố A, B độc lập!\n"
     ]
    }
   ],
   "source": [
    "P_AxB = 1/8\n",
    "P_A = 1/2\n",
    "P_B = 1/4\n",
    "if (P_AxB == P_A*P_B):\n",
    "    print(\"Cặp biến cố A, B độc lập!\")\n",
    "else: print(\"Cặp biến cố A, B không độc lập!\")"
   ]
  },
  {
   "cell_type": "markdown",
   "metadata": {},
   "source": [
    "2. $A$: lần $1$ được mặt ngửa, $B$: có đúng $2$ lần được mặt sấp."
   ]
  },
  {
   "cell_type": "markdown",
   "metadata": {},
   "source": [
    "$P(A) = \\frac{|A|}{|\\Omega|} = \\frac{4}{8} = \\frac{1}{2}$, $P(B) = \\frac{|B|}{|\\Omega|} = \\frac{3}{8}$, $P(A \\cap B) = |A \\cap B| = \\frac{1}{8}$"
   ]
  },
  {
   "cell_type": "markdown",
   "metadata": {},
   "source": [
    "Từ (*), ta có: $ P(A \\cap B) = P(A)P(B) \\Leftrightarrow \\frac{1}{8} = \\frac{1}{2} * \\frac{3}{8} \\Leftrightarrow \\frac{1}{8} = \\frac{3}{16} \\text{(vô lý)}$"
   ]
  },
  {
   "cell_type": "markdown",
   "metadata": {},
   "source": [
    "**Vậy cặp biến cố** $A, B$ $ \\text{không độc lập}$"
   ]
  },
  {
   "cell_type": "code",
   "execution_count": 2,
   "metadata": {},
   "outputs": [
    {
     "name": "stdout",
     "output_type": "stream",
     "text": [
      "Cặp biến cố A, B không độc lập!\n"
     ]
    }
   ],
   "source": [
    "P_AxB = 1/8\n",
    "P_A = 1/2\n",
    "P_B = 3/8\n",
    "if (P_AxB == P_A*P_B):\n",
    "    print(\"Cặp biến cố A, B độc lập!\")\n",
    "else: print(\"Cặp biến cố A, B không độc lập!\")"
   ]
  },
  {
   "cell_type": "markdown",
   "metadata": {},
   "source": [
    "3. $A$: lần $1$ được mặt ngửa, $B$: có đúng $2$ $\\text{lần liên tiếp}$ được mặt sấp."
   ]
  },
  {
   "cell_type": "markdown",
   "metadata": {},
   "source": [
    "$P(A) = \\frac{|A|}{|\\Omega|} = \\frac{4}{8} = \\frac{1}{2}$, $P(B) = \\frac{|B|}{|\\Omega|} = \\frac{2}{8} = \\frac{1}{4}$, $P(A \\cap B) = |A \\cap B| = \\frac{1}{8}$"
   ]
  },
  {
   "cell_type": "markdown",
   "metadata": {},
   "source": [
    "Từ (*), ta có: $ P(A \\cap B) = P(A)P(B) \\Leftrightarrow \\frac{1}{8} = \\frac{1}{2} * \\frac{1}{4} \\Leftrightarrow \\frac{1}{8} = \\frac{1}{8} \\text{(luôn đúng)}$"
   ]
  },
  {
   "cell_type": "markdown",
   "metadata": {},
   "source": [
    "**Vậy cặp biến cố** $A, B$ $ \\text{độc lập}$"
   ]
  },
  {
   "cell_type": "code",
   "execution_count": 3,
   "metadata": {},
   "outputs": [
    {
     "name": "stdout",
     "output_type": "stream",
     "text": [
      "Cặp biến cố A, B độc lập!\n"
     ]
    }
   ],
   "source": [
    "P_AxB = 1/8\n",
    "P_A = 1/2\n",
    "P_B = 1/4\n",
    "if (P_AxB == P_A*P_B):\n",
    "    print(\"Cặp biến cố A, B độc lập!\")\n",
    "else: print(\"Cặp biến cố A, B không độc lập!\")"
   ]
  },
  {
   "cell_type": "markdown",
   "metadata": {},
   "source": [
    "4. $A$: lần $2$ được mặt ngửa, $B$: có đúng $2$ $\\text{lần liên tiếp}$ được mặt sấp."
   ]
  },
  {
   "cell_type": "markdown",
   "metadata": {},
   "source": [
    "$P(A) = \\frac{|A|}{|\\Omega|} = \\frac{4}{8} = \\frac{1}{2}$, $P(B) = \\frac{|B|}{|\\Omega|} = \\frac{2}{8} = \\frac{1}{4}$, $P(A \\cap B) = |A \\cap B| = \\frac{0}{8} = 0$"
   ]
  },
  {
   "cell_type": "markdown",
   "metadata": {},
   "source": [
    "Từ (*), ta có: $ P(A \\cap B) = P(A)P(B) \\Leftrightarrow 0 = \\frac{1}{2} * \\frac{1}{4} \\Leftrightarrow 0 = \\frac{1}{8} \\text{(vô lý)}$"
   ]
  },
  {
   "cell_type": "markdown",
   "metadata": {},
   "source": [
    "**Vậy cặp biến cố** $A, B$ $ \\text{không độc lập}$"
   ]
  },
  {
   "cell_type": "code",
   "execution_count": 4,
   "metadata": {},
   "outputs": [
    {
     "name": "stdout",
     "output_type": "stream",
     "text": [
      "Cặp biến cố A, B không độc lập!\n"
     ]
    }
   ],
   "source": [
    "P_AxB = 0\n",
    "P_A = 1/2\n",
    "P_B = 1/4\n",
    "if (P_AxB == P_A*P_B):\n",
    "    print(\"Cặp biến cố A, B độc lập!\")\n",
    "else: print(\"Cặp biến cố A, B không độc lập!\")"
   ]
  },
  {
   "cell_type": "markdown",
   "metadata": {},
   "source": [
    "### Code mô phỏng"
   ]
  },
  {
   "cell_type": "code",
   "execution_count": 5,
   "metadata": {},
   "outputs": [],
   "source": [
    "def product(*iters):\n",
    "    def loop(prod, first = [], *rest):\n",
    "        if not rest:\n",
    "            for x in first:\n",
    "                yield prod + (x,)\n",
    "        else:\n",
    "            for x in first:\n",
    "                yield from loop(prod + (x,), *rest)\n",
    "    yield from loop((), *iters)"
   ]
  },
  {
   "cell_type": "code",
   "execution_count": 6,
   "metadata": {},
   "outputs": [],
   "source": [
    "def tung_dong_xu(n):\n",
    "    sides = ['S', 'N']\n",
    "    coins = [sides] * n\n",
    "    yield from product(*coins)"
   ]
  },
  {
   "cell_type": "code",
   "execution_count": 7,
   "metadata": {},
   "outputs": [
    {
     "name": "stdin",
     "output_type": "stream",
     "text": [
      "Nhập số lần tung đồng xu: 3\n"
     ]
    },
    {
     "name": "stdout",
     "output_type": "stream",
     "text": [
      "* Không gian mẫu: [('S', 'S', 'S'), ('S', 'S', 'N'), ('S', 'N', 'S'), ('S', 'N', 'N'), ('N', 'S', 'S'), ('N', 'S', 'N'), ('N', 'N', 'S'), ('N', 'N', 'N')]\n",
      "* Kích thước không gian mẫu: 8\n"
     ]
    }
   ],
   "source": [
    "n = int(input(\"Nhập số lần tung đồng xu:\"))\n",
    "sample_space = list(tung_dong_xu(n))\n",
    "print(\"* Không gian mẫu:\", sample_space)\n",
    "print(\"* Kích thước không gian mẫu:\", len(sample_space))"
   ]
  },
  {
   "cell_type": "code",
   "execution_count": 8,
   "metadata": {},
   "outputs": [],
   "source": [
    "space = list(tung_dong_xu(n))\n",
    "len_space = len(space)"
   ]
  },
  {
   "cell_type": "code",
   "execution_count": 9,
   "metadata": {},
   "outputs": [],
   "source": [
    "def result(len_A, len_B, list_A, list_B):\n",
    "    #Lấy phần giao\n",
    "    AxB = list_A.intersection(list_B)\n",
    "    len_AxB = len(AxB)\n",
    "    #Tính xác suất\n",
    "    P_A = len_A/len_space\n",
    "    P_B = len_B/len_space\n",
    "    P_AxB = len_AxB/len_space\n",
    "    #Kiểm tra\n",
    "    if (P_AxB == P_A*P_B):\n",
    "        print(\"Cặp biến cố A, B độc lập!\")\n",
    "    else: print(\"Cặp biến cố A, B không độc lập!\")"
   ]
  },
  {
   "cell_type": "code",
   "execution_count": 29,
   "metadata": {},
   "outputs": [
    {
     "name": "stdout",
     "output_type": "stream",
     "text": [
      "CÂU 1a\n",
      "Cặp biến cố A, B độc lập!\n"
     ]
    }
   ],
   "source": [
    "print(\"CÂU 1a\")\n",
    "len_A, len_B, len_AxB = 0, 0, 0\n",
    "list_A, list_B, list_AxB = set(), set(), set()\n",
    "#Check điều kiện đề bài\n",
    "for ss in space:\n",
    "    if(ss[0] == \"N\"):\n",
    "        len_A += 1\n",
    "        list_A.add(ss)\n",
    "    if(ss[1] == \"S\" and ss[2] == \"S\"):\n",
    "        len_B += 1\n",
    "        list_B.add(ss)\n",
    "\n",
    "result(len_A, len_B, list_A, list_B)"
   ]
  },
  {
   "cell_type": "code",
   "execution_count": 22,
   "metadata": {},
   "outputs": [
    {
     "name": "stdout",
     "output_type": "stream",
     "text": [
      "CÂU 1b\n",
      "Cặp biến cố A, B không độc lập!\n"
     ]
    }
   ],
   "source": [
    "print(\"CÂU 1b\")\n",
    "len_A, len_B, len_AxB = 0, 0, 0\n",
    "list_A, list_B, list_AxB = set(), set(), set()\n",
    "#Check điều kiện đề bài\n",
    "for ss in space:\n",
    "    if(ss[0] == \"N\"):\n",
    "        len_A += 1\n",
    "        list_A.add(ss)\n",
    "    if((ss[0] == \"S\" and ss[1] == \"S\") or (ss[1] == \"S\" and ss[2] == \"S\") or (ss[2] == \"S\" and ss[0] == \"S\")):\n",
    "        len_B += 1\n",
    "        list_B.add(ss)\n",
    "\n",
    "result(len_A, len_B, list_A, list_B)     "
   ]
  },
  {
   "cell_type": "code",
   "execution_count": 35,
   "metadata": {},
   "outputs": [
    {
     "name": "stdout",
     "output_type": "stream",
     "text": [
      "CÂU 1c\n",
      "{('S', 'S', 'N'), ('N', 'S', 'S')}\n",
      "2\n",
      "Cặp biến cố A, B độc lập!\n"
     ]
    }
   ],
   "source": [
    "print(\"CÂU 1c\")\n",
    "# Reset giá trị\n",
    "len_A, len_B, len_AxB = 0, 0, 0\n",
    "list_A, list_B, list_AxB = set(), set(), set()\n",
    "#Check điều kiện đề bài\n",
    "for ss in space:\n",
    "    if(ss[0] == \"N\"):\n",
    "        len_A += 1\n",
    "        list_A.add(ss)\n",
    "    if((ss[0] == \"S\" and ss[1] == \"S\") or (ss[1] == \"S\" and ss[2] == \"S\")):\n",
    "        len_B += 1\n",
    "        list_B.add(ss)\n",
    "    if ('S', 'S', 'S') in list_B:\n",
    "        list_B.pop()\n",
    "        len_B -= 1\n",
    "print(list_B)\n",
    "print(len_B)\n",
    "result(len_A, len_B, list_A, list_B)"
   ]
  },
  {
   "cell_type": "code",
   "execution_count": 33,
   "metadata": {},
   "outputs": [
    {
     "name": "stdout",
     "output_type": "stream",
     "text": [
      "CÂU 1d\n",
      "{('N', 'N', 'S'), ('S', 'N', 'N'), ('N', 'N', 'N'), ('S', 'N', 'S')}\n",
      "{('S', 'S', 'N'), ('N', 'S', 'S')}\n",
      "set()\n",
      "Cặp biến cố A, B không độc lập!\n"
     ]
    }
   ],
   "source": [
    "print(\"CÂU 1d\")\n",
    "len_A, len_B, len_AxB = 0, 0, 0\n",
    "list_A, list_B, list_AxB = set(), set(), set()\n",
    "#Check điều kiện đề bài\n",
    "for ss in space:\n",
    "    if(ss[1] == \"N\"):\n",
    "        len_A += 1\n",
    "        list_A.add(ss)\n",
    "    if((ss[0] == \"S\" and ss[1] == \"S\") or (ss[1] == \"S\" and ss[2] == \"S\")):\n",
    "        len_B += 1\n",
    "        list_B.add(ss)\n",
    "    if ('S', 'S', 'S') in list_B:\n",
    "        list_B.pop()\n",
    "        len_B -= 1\n",
    "\n",
    "print(list_A)       \n",
    "print(list_B)\n",
    "print(list_AxB) #Tập A giao B\n",
    "result(len_A, len_B, list_A, list_B)"
   ]
  },
  {
   "cell_type": "markdown",
   "metadata": {},
   "source": [
    "### **BÀI 2: Một nghiên cứu về ung thư vú cho biết:**\n",
    "\n",
    "* Tỷ lệ sống quá $5$ $\\text{năm}$ là $85$%,\n",
    "* Tỷ lệ $\\text{không có hạch di căn}$ trong số những người $\\text{sống quá}$ $5$ $\\text{năm}$ là $85$%,\n",
    "* Tỷ lệ $\\text{có hạch di căn}$ trong số những người $\\text{không sống quá}$ $5$ $\\text{năm}$ là $75$%.\n",
    "\n",
    "Một người bị ung thư vú mà $\\text{có hạch di căn}$, tính khả năng người này $\\text{sống quá}$ $5$ $\\text{năm}$."
   ]
  },
  {
   "cell_type": "markdown",
   "metadata": {},
   "source": [
    "$$ \\text{BÀI LÀM} $$"
   ]
  },
  {
   "cell_type": "markdown",
   "metadata": {},
   "source": [
    "Gọi $T$ là biến cố bệnh nhận $\\text{sống quá}$ $5$ $\\text{năm}$, $H$ là biến cố bệnh nhân $\\text{có hạch di căn}$."
   ]
  },
  {
   "cell_type": "markdown",
   "metadata": {},
   "source": [
    "**Ta có sơ đồ cây như sau:**"
   ]
  },
  {
   "attachments": {
    "1ebe981e-6783-45f8-b91d-cbb2becef279.png": {
     "image/png": "[encoded data removed]"
    }
   },
   "cell_type": "markdown",
   "metadata": {},
   "source": [
    "![image.png](attachment:1ebe981e-6783-45f8-b91d-cbb2becef279.png)"
   ]
  },
  {
   "cell_type": "markdown",
   "metadata": {},
   "source": [
    "Tỉ lệ sống quá $5$ $\\text{năm}$ của bệnh nhân có $\\text{hạch di căng}$:"
   ]
  },
  {
   "cell_type": "markdown",
   "metadata": {},
   "source": [
    "$$P(T \\cap H) = P(T)P(H|T) = 0.85 * 0.15 = 0.1275 $$"
   ]
  },
  {
   "cell_type": "code",
   "execution_count": 13,
   "metadata": {},
   "outputs": [
    {
     "name": "stdout",
     "output_type": "stream",
     "text": [
      "0.1275\n"
     ]
    }
   ],
   "source": [
    "P_T = 0.85\n",
    "P_HT = 0.15\n",
    "P_TxH = P_T * P_HT\n",
    "print(\"%.4f\" % P_TxH)"
   ]
  },
  {
   "cell_type": "markdown",
   "metadata": {},
   "source": [
    "Tỉ lệ người bệnh có hạch di căn:"
   ]
  },
  {
   "cell_type": "markdown",
   "metadata": {},
   "source": [
    "$$ P(H) = P(T \\cap H) + P(T^c \\cap H)$$"
   ]
  },
  {
   "cell_type": "markdown",
   "metadata": {},
   "source": [
    "$$ = P(T)P(H|T) + P(T^c)P(H|T^c)$$"
   ]
  },
  {
   "cell_type": "markdown",
   "metadata": {},
   "source": [
    "$$ = 0.85 * 0.15 + 0.15 * 0.75 = 0.24 $$"
   ]
  },
  {
   "cell_type": "code",
   "execution_count": 14,
   "metadata": {},
   "outputs": [
    {
     "name": "stdout",
     "output_type": "stream",
     "text": [
      "0.2400\n"
     ]
    }
   ],
   "source": [
    "P_T = 0.85\n",
    "P_Tc = 0.15\n",
    "P_HT = 0.15\n",
    "P_HTc = 0.75\n",
    "P_H = P_T * P_HT + P_Tc * P_HTc\n",
    "print(\"%.4f\" % P_H)"
   ]
  },
  {
   "cell_type": "markdown",
   "metadata": {},
   "source": [
    "*Khả năng người mắc ung thư có di căng, sống quá 5 năm:* $P(T|H)$"
   ]
  },
  {
   "cell_type": "markdown",
   "metadata": {},
   "source": [
    "$$P(T | H) = \\frac{P(T \\cap H)}{P(H)}$$"
   ]
  },
  {
   "cell_type": "markdown",
   "metadata": {},
   "source": [
    "$$ = \\frac{0.1275}{0.24} $$"
   ]
  },
  {
   "cell_type": "markdown",
   "metadata": {},
   "source": [
    "$$ = 0.5312 $$"
   ]
  },
  {
   "cell_type": "code",
   "execution_count": 15,
   "metadata": {},
   "outputs": [
    {
     "name": "stdout",
     "output_type": "stream",
     "text": [
      "0.5312\n"
     ]
    }
   ],
   "source": [
    "P_TxH = 0.1275\n",
    "P_H = 0.24\n",
    "P_TH = P_TxH / P_H\n",
    "print(\"%.4f\" % P_TH)"
   ]
  }
 ],
 "metadata": {
  "kernelspec": {
   "display_name": "Python 3",
   "language": "python",
   "name": "python3"
  },
  "language_info": {
   "codemirror_mode": {
    "name": "ipython",
    "version": 3
   },
   "file_extension": ".py",
   "mimetype": "text/x-python",
   "name": "python",
   "nbconvert_exporter": "python",
   "pygments_lexer": "ipython3",
   "version": "3.8.5"
  }
 },
 "nbformat": 4,
 "nbformat_minor": 4
}
