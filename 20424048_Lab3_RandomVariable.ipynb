{
 "cells": [
  {
   "cell_type": "markdown",
   "metadata": {},
   "source": [
    "### MÔN: THỐNG KÊ MÁY TÍNH & ỨNG DỤNG"
   ]
  },
  {
   "cell_type": "markdown",
   "metadata": {},
   "source": [
    "### Họ tên: **Nguyễn Vũ Linh** - MSSV: **20424048** - Lớp: **20HCB1**"
   ]
  },
  {
   "cell_type": "markdown",
   "metadata": {},
   "source": [
    "------------------------------------------------------------------------------------------------------------------------------------------------------------------"
   ]
  },
  {
   "cell_type": "markdown",
   "metadata": {},
   "source": [
    "**BÀI 1: Chơi Tôm Cua, giả sử có 3 tờ tiền 1000đ, xét 3 phương án đặt:**\n",
    "- 3 tờ cùng một hình\n",
    "- 3 tờ 3 hình khác nhau\n",
    "- 2 tờ cùng hình và 1 tờ hình khác\n",
    "\n",
    "***Nên chọn phương án nào?***"
   ]
  },
  {
   "cell_type": "markdown",
   "metadata": {},
   "source": [
    "$$ \\text{BÀI LÀM} $$"
   ]
  },
  {
   "cell_type": "markdown",
   "metadata": {},
   "source": [
    "***LÝ THUYẾT***"
   ]
  },
  {
   "cell_type": "markdown",
   "metadata": {},
   "source": [
    "Gọi: \n",
    "\n",
    "$A_i$ là biến cố lần thứ $i$ trùng với hình, $(i = 1, 2, 3)$\n",
    "    \n",
    "$X$ là số tiền thu được sau $1$ lần chơi\n",
    "    \n",
    "Ta có,"
   ]
  },
  {
   "cell_type": "markdown",
   "metadata": {},
   "source": [
    "**Phương án 1:** Người chơi đặt 3 tờ cùng một hình\n",
    "\n",
    "$$ P(X = 6000) = P(A_1A_2A_3) = P(A_1)P(A_2)P(A_3) = \\frac{1}{6} \\frac{1}{6} \\frac{1}{6} \\simeq 0.005 $$\n",
    "\n",
    "$$ P(X = 0) = P(\\overline A_1 \\overline A_2 \\overline A_3) = P(\\overline A_1)P(\\overline A_2)P(\\overline A_3) = \\frac{5}{6} \\frac{5}{6} \\frac{5}{6} \\simeq 0.579 $$"
   ]
  },
  {
   "cell_type": "markdown",
   "metadata": {},
   "source": [
    "Từ đó, ta có bảng phân phối xác xuất của X như sau\n",
    "\n",
    "| X |   0   | 6000  |\n",
    "|---|-------|-------|\n",
    "| P | 0.579 | 0.005 |\n",
    "\n",
    "Từ đó,\n",
    "\n",
    "$$ EX = \\displaystyle\\sum_{i=1}^{2} x_i P(X = x_i) = 30 $$\n",
    "\n",
    "$$\\Rightarrow B = 3 EX  \\simeq 90$$ Như vậy người chơi không nên chọn phương án với kết quả lỗ vốn"
   ]
  },
  {
   "cell_type": "markdown",
   "metadata": {},
   "source": [
    "**Phương án 2:** Người chơi đặt 2 tờ cùng hình, 1 tờ khác hình\n",
    "\n",
    "$$ * P(X = 6000) = P(A_1A_2A_3) = P(A_1)P(A_2)P(A_3) = \\frac{1}{6} \\frac{1}{6} \\frac{1}{6} \\simeq 0.005 $$\n",
    "\n",
    "$$ * P(X = 4000) = P(A_1 A_2 \\overline A_3 + A_1 \\overline A_2 A_3 + \\overline A_1 A_2 A_3) $$\n",
    "\n",
    "$$ = P(A_1)P(A_2)P(\\overline A_3) + P(A_1)P(\\overline A_2)P(A_3) + P(\\overline A_1)P(A_2)P(A_3) $$\n",
    "\n",
    "$$ = 3 \\frac{1}{6} \\frac{1}{6} \\frac{5}{6} \\simeq 0.069 $$\n",
    "\n",
    "$$ * P(X = 2000) = P(A_1 \\overline A_2 \\overline A_3 + \\overline A_1 A_2 \\overline A_3 + \\overline A_1 \\overline A_2 A_3) $$\n",
    "\n",
    "$$ = P(A_1)P(\\overline A_2)P(\\overline A_3) + P(\\overline A_1)P(A_2)P(\\overline A_3) + P(\\overline A_1)P(\\overline A_2)P(A_3) $$\n",
    "\n",
    "$$ = 3 \\frac{1}{6} \\frac{5}{6} \\frac{5}{6} \\simeq 0.347 $$\n",
    "\n",
    "$$ * P(X = 0) = P(\\overline A_1 \\overline A_2 \\overline A_3) = P(\\overline A_1)P(\\overline A_2)P(\\overline A_3) = \\frac{5}{6} \\frac{5}{6} \\frac{5}{6} \\simeq 0.579 $$"
   ]
  },
  {
   "cell_type": "markdown",
   "metadata": {},
   "source": [
    "Từ đó, ta có bảng phân phối xác xuất của X như sau\n",
    "\n",
    "| X |   0   | 2000  | 4000  | 6000  |\n",
    "|---|-------|-------|-------|-------|\n",
    "| P | 0.579 | 0.347 | 0.069 | 0.005 |\n",
    "\n",
    "Từ đó,\n",
    "\n",
    "$$ EX_{mỗi con} = \\displaystyle\\sum_{i=1}^{4} x_i P(X = x_i) = 1000 $$\n",
    "\n",
    "$$\\Rightarrow B = 3 EX  \\simeq 3000$$ Như vậy người chơi có thể chọn phương án với kết quả hoà vốn"
   ]
  },
  {
   "cell_type": "markdown",
   "metadata": {},
   "source": [
    "**Phương án 3:** Người chơi đặt 3 tờ 3 hình khác nhau\n",
    "$$ * P(X = 6000) = P(A_1A_2A_3) = P(A_1)P(A_2)P(A_3) = \\frac{1}{6} \\frac{1}{6} \\frac{1}{6} \\simeq 0.005 $$\n",
    "\n",
    "$$ * P(X = 4000) = P(A_1 A_2 \\overline A_3 + A_1 \\overline A_2 A_3 + \\overline A_1 A_2 A_3) $$\n",
    "\n",
    "$$ = P(A_1)P(A_2)P(\\overline A_3) + P(A_1)P(\\overline A_2)P(A_3) + P(\\overline A_1)P(A_2)P(A_3) $$\n",
    "\n",
    "$$ = 3 \\frac{1}{6} \\frac{1}{6} \\frac{5}{6} \\simeq 0.069 $$\n",
    "\n",
    "$$ * P(X = 2000) = P(A_1 \\overline A_2 \\overline A_3 + \\overline A_1 A_2 \\overline A_3 + \\overline A_1 \\overline A_2 A_3) $$\n",
    "\n",
    "$$ = P(A_1)P(\\overline A_2)P(\\overline A_3) + P(\\overline A_1)P(A_2)P(\\overline A_3) + P(\\overline A_1)P(\\overline A_2)P(A_3) $$\n",
    "\n",
    "$$ = 3 \\frac{1}{6} \\frac{5}{6} \\frac{5}{6} \\simeq 0.347 $$\n",
    "\n",
    "$$ * P(X = 0) = P(\\overline A_1 \\overline A_2 \\overline A_3) = P(\\overline A_1)P(\\overline A_2)P(\\overline A_3) = \\frac{5}{6} \\frac{5}{6} \\frac{5}{6} \\simeq 0.579 $$"
   ]
  },
  {
   "cell_type": "markdown",
   "metadata": {},
   "source": [
    "Từ đó, ta có bảng phân phối xác xuất của X như sau\n",
    "\n",
    "| X |   0   | 2000  | 4000  | 6000  |\n",
    "|---|-------|-------|-------|-------|\n",
    "| P | 0.579 | 0.347 | 0.069 | 0.005 |\n",
    "\n",
    "Từ đó,\n",
    "\n",
    "$$ EX_{mỗi con} = \\displaystyle\\sum_{i=1}^{4} x_i P(X = x_i) = 1000 $$\n",
    "\n",
    "$$\\Rightarrow B = 3 EX  \\simeq 3000$$ Như vậy người chơi có thể chọn phương án với kết quả hoà vốn"
   ]
  },
  {
   "cell_type": "markdown",
   "metadata": {},
   "source": [
    "***CODE MÔ PHỎNG***"
   ]
  },
  {
   "cell_type": "code",
   "execution_count": 5,
   "metadata": {},
   "outputs": [],
   "source": [
    "import random as rd\n",
    "import numpy as np\n",
    "\n",
    "def gameBauCua(luaChon, N):\n",
    "    tien = 0\n",
    "    oChon = [\"Bau\",\"Cua\",\"Ca\",\"Ga\",\"Tom\",\"Nai\"]\n",
    "    for i in range(N):\n",
    "        lac = []\n",
    "        nguoiChoiChon = []\n",
    "        lac.append(rd.choice(oChon))\n",
    "        lac.append(rd.choice(oChon))\n",
    "        lac.append(rd.choice(oChon))\n",
    "#         print(lac)\n",
    "        if luaChon == 1:\n",
    "            nguoiChoiChon = [rd.choice(oChon)]*3\n",
    "#             print(\"START\")\n",
    "#             print(nguoiChoiChon)\n",
    "        elif luaChon == 2:\n",
    "            nguoiChoiChon.extend(np.random.choice(oChon, 2, replace = False))\n",
    "            nguoiChoiChon.append(nguoiChoiChon[1])\n",
    "#             print(nguoiChoiChon)\n",
    "        else: \n",
    "            nguoiChoiChon.extend(np.random.choice(oChon, 3, replace = False))\n",
    "#             print(nguoiChoiChon)\n",
    "        \n",
    "        for j in nguoiChoiChon:\n",
    "            for k in range(3):\n",
    "                tien += (j == lac[k])*2000\n",
    "    \n",
    "    return tien/N\n"
   ]
  },
  {
   "cell_type": "code",
   "execution_count": 6,
   "metadata": {},
   "outputs": [
    {
     "name": "stdout",
     "output_type": "stream",
     "text": [
      "Số tiền chung cuộc có thể nhận được nếu đặt\n",
      "+ 3 tờ cùng một hình:                3010.8\n",
      "+ 3 tờ 3 hình khác nhau:             3002.8\n",
      "+ 2 tờ cùng hình, 1 tờ hình khác:    2998.6\n"
     ]
    }
   ],
   "source": [
    "print('Số tiền chung cuộc có thể nhận được nếu đặt')\n",
    "print('+ 3 tờ cùng một hình:               ', gameBauCua(1,10000))\n",
    "print('+ 3 tờ 3 hình khác nhau:            ', gameBauCua(3,10000))\n",
    "print('+ 2 tờ cùng hình, 1 tờ hình khác:   ', gameBauCua(2,10000))"
   ]
  },
  {
   "cell_type": "markdown",
   "metadata": {},
   "source": [
    "Như vậy: Có thể chọn bất kì 1 trong ba phương án trên do số tiền chung cuộc trung bình đều cho kết quả gần giống nhau và hoà vốn"
   ]
  },
  {
   "cell_type": "markdown",
   "metadata": {},
   "source": [
    "------------------------------------------------------------------------------------------------------------------------------------------------------------------"
   ]
  },
  {
   "cell_type": "markdown",
   "metadata": {},
   "source": [
    "**BÀI 2: Một hộp bi gồm: 6 viên số 1, 3 viên số 2, 2 viên số 3 và 1 viên số 4. Xét trò chơi bốc bi từ hộp này: để chơi phải đóng 2đ cho nhà cái và bốc (ngẫu nhiên) được bi số  i  sẽ được cái chung  i đ ( i=1,2,3,4 ).**\n",
    "\n",
    "a) Tìm phân phối của số tiền (chung cuộc) nhận được.\n",
    "\n",
    "b) Ta có nên chơi trò này không?\n",
    "\n",
    "c) Giả sử nếu người chơi bốc được bi số 4 thì nhà cái cho chơi thêm lần nữa mà chỉ đóng 1đ, ta có nên chơi không?"
   ]
  },
  {
   "cell_type": "markdown",
   "metadata": {},
   "source": [
    "$$ \\text{BÀI LÀM} $$"
   ]
  },
  {
   "cell_type": "markdown",
   "metadata": {},
   "source": [
    "***LÝ THUYẾT***"
   ]
  },
  {
   "cell_type": "markdown",
   "metadata": {},
   "source": [
    "Mỗi lần đều bốc 1 viên bi nên ta có tồng số bi trong hộp là không gian mẫu ($\\Omega$): $ |\\Omega| = \\text{6 + 3 + 2 + 1} = 12$"
   ]
  },
  {
   "cell_type": "markdown",
   "metadata": {},
   "source": [
    "Gọi $A_i$ là biến cố bốc được viên bi thứ $i$ ( với $i = 1, 2, 3, 4$), ta có: |$A_1$| $= 6,$ |$A_2$| $= 3,$ |$A_3$| $= 2,$ |$A_4$| $= 1$"
   ]
  },
  {
   "cell_type": "markdown",
   "metadata": {},
   "source": [
    "Xác suất để bốc được viên bi thứ $i$ sẽ lần lượt là:"
   ]
  },
  {
   "cell_type": "markdown",
   "metadata": {},
   "source": [
    "$$P(A_1) = \\frac{|A_1|}{|\\Omega|} = \\frac{6}{12} = \\frac{1}{2}; P(A_2) = \\frac{|A_2|}{|\\Omega|} = \\frac{3}{12} = \\frac{1}{4};P(A_3) = \\frac{|A_3|}{|\\Omega|} = \\frac{2}{12} = \\frac{1}{6};P(A_4) = \\frac{|A_4|}{|\\Omega|} = \\frac{1}{12}$$"
   ]
  },
  {
   "cell_type": "markdown",
   "metadata": {},
   "source": [
    "Gọi $x$ là số tiền nhận được khi bốc viên bi có số tương ứng\n",
    "\n",
    "a) Số tiền chung cuộc có thể nhận được: \n",
    "\n",
    "$$ E(X)  = \\sum xP(X = x) = 1 * P(A_1) + 2 * P(A_2) + 3 * P(A_3) + 4 * P(A_4) $$\n",
    "           \n",
    "$$ = \\frac{1}{2} + 2 * \\frac{1}{4} + 3 * \\frac{1}{6} + 4 * \\frac{1}{12} $$ \n",
    "\n",
    "$$ = \\frac{1}{2} + \\frac{1}{2} + \\frac{1}{2} + \\frac{1}{3} = 1, 833 $$"
   ]
  },
  {
   "cell_type": "markdown",
   "metadata": {},
   "source": [
    "b) Do số tiền chung cuộc có thể nhận được < 2đ, $ \\text{nên ta không nên chơi trò này!}$"
   ]
  },
  {
   "cell_type": "markdown",
   "metadata": {},
   "source": [
    "c) Sau khi viên bi số 4 được bốc thì bỏ ra khỏi hộp bi, không gian mẫu thay đổi: $ |\\Omega| = \\text{6 + 3 + 2} = 11$"
   ]
  },
  {
   "cell_type": "markdown",
   "metadata": {},
   "source": [
    "Gọi $A_i$ là biến cố bốc được viên bi thứ $i$ ( với $i = 1, 2, 3$), ta có: |$A_1$| $= 6,$ |$A_2$| $= 3,$ |$A_3$| $= 2$"
   ]
  },
  {
   "cell_type": "markdown",
   "metadata": {},
   "source": [
    "Xác suất để bốc được viên bi thứ $i$ sẽ lần lượt là:"
   ]
  },
  {
   "cell_type": "markdown",
   "metadata": {},
   "source": [
    "$$P(A_1) = \\frac{|A_1|}{|\\Omega|} = \\frac{6}{11}; P(A_2) = \\frac{|A_2|}{|\\Omega|} = \\frac{3}{11};P(A_3) = \\frac{|A_3|}{|\\Omega|} = \\frac{2}{11}$$"
   ]
  },
  {
   "cell_type": "markdown",
   "metadata": {},
   "source": [
    "Gọi $x$ là số tiền nhận được khi bốc viên bi có số tương ứng\n",
    "\n",
    "$$ E(X)  = \\sum xP(X = x) = 1 * P(A_1) + 2 * P(A_2) + 3 * P(A_3)$$\n",
    "           \n",
    "$$ = \\frac{6}{11} + 2 * \\frac{3}{11} + 3 * \\frac{2}{11}$$ \n",
    "\n",
    "$$ = \\frac{6}{11} + \\frac{6}{11} + \\frac{6}{11} = 1, 636 $$"
   ]
  },
  {
   "cell_type": "markdown",
   "metadata": {},
   "source": [
    "Như vậy: Ta khó đánh giá được có nên chơi hay không vì kết quả số tiền chung cuộc nhận được nằm giữa việc có lãi và hoà vốn, nhưng do thực tế ta cũng không mất tiền $ \\text {nên nếu thích \"thử vận may\" thì có thể chơi.}$"
   ]
  },
  {
   "cell_type": "markdown",
   "metadata": {},
   "source": [
    "***CODE MÔ PHỎNG***"
   ]
  },
  {
   "cell_type": "markdown",
   "metadata": {},
   "source": [
    "Câu a)"
   ]
  },
  {
   "cell_type": "code",
   "execution_count": 6,
   "metadata": {},
   "outputs": [],
   "source": [
    "import random as rd\n",
    "import numpy as np\n",
    "\n",
    "def gameBocBi(N):\n",
    "    hopBi = [1]*6 + [2]*3 + [3]*2 + [4]\n",
    "    tien = 0\n",
    "    for i in range(N):\n",
    "        bocBi = np.random.choice(hopBi)\n",
    "        tienTra = bocBi \n",
    "        tien += tienTra\n",
    "    return tien/N"
   ]
  },
  {
   "cell_type": "code",
   "execution_count": 10,
   "metadata": {},
   "outputs": [
    {
     "name": "stdout",
     "output_type": "stream",
     "text": [
      "Số tiền chung cuộc có thể nhận được khi chơi bằng 2đ/1 lượt:  1.835148\n"
     ]
    }
   ],
   "source": [
    "N = 1000000\n",
    "print('Số tiền chung cuộc có thể nhận được khi chơi bằng 2đ/1 lượt: ', gameBocBi(N))"
   ]
  },
  {
   "cell_type": "markdown",
   "metadata": {},
   "source": [
    "Câu c)"
   ]
  },
  {
   "cell_type": "code",
   "execution_count": 8,
   "metadata": {},
   "outputs": [],
   "source": [
    "import random as rd\n",
    "import numpy as np\n",
    "\n",
    "def gameBocBi2(N):\n",
    "    hopBi = [1]*6 + [2]*3 + [3]*2\n",
    "    tien = 0\n",
    "    for i in range(N):\n",
    "        bocBi = np.random.choice(hopBi)\n",
    "        tienTra = bocBi \n",
    "        tien += tienTra\n",
    "    return tien/N"
   ]
  },
  {
   "cell_type": "code",
   "execution_count": 11,
   "metadata": {},
   "outputs": [
    {
     "name": "stdout",
     "output_type": "stream",
     "text": [
      "Số tiền chung cuộc có thể nhận được khi chơi bằng 1đ/1 lượt sau khi đã bóc trúng bi 4:  1.636095\n"
     ]
    }
   ],
   "source": [
    "N = 1000000\n",
    "print('Số tiền chung cuộc có thể nhận được khi chơi bằng 1đ/1 lượt sau khi đã bóc trúng bi 4: ', gameBocBi2(N))"
   ]
  },
  {
   "cell_type": "markdown",
   "metadata": {},
   "source": [
    "------------------------------------------------------------------------------------------------------------------------------------------------------------------"
   ]
  },
  {
   "cell_type": "markdown",
   "metadata": {},
   "source": [
    "**BÀI 3: Romeo và Juliet hẹn gặp nhau từ 8h đến 9h. Giả sử thời điểm đến của mỗi người là ngẫu nhiên trong khoảng thời gian đó, hơn nữa, người tới sớm sẽ chờ người tới sau không quá 20 phút. Tính thời gian chờ trung bình.**"
   ]
  },
  {
   "cell_type": "markdown",
   "metadata": {},
   "source": [
    "$$ \\text{BÀI LÀM} $$"
   ]
  },
  {
   "cell_type": "markdown",
   "metadata": {},
   "source": [
    "***LÝ THUYẾT***"
   ]
  },
  {
   "cell_type": "markdown",
   "metadata": {},
   "source": [
    "***CODE MÔ PHỎNG***"
   ]
  },
  {
   "cell_type": "markdown",
   "metadata": {},
   "source": [
    "Gọi $t_1$, $t_2$ lần lượt là thời gian đến của Romeo và Juliet.\n",
    "\n",
    "Ta có điều kiện sau:\n",
    "- Thời gian chờ = |$t_1$ - $t_2$|, khi và chỉ khi |$t_1$ - $t_2$| $\\leq 20$ \n",
    "- Thời gian chờ = $20$, khi và chỉ khi |$t_1$ - $t_2$| $\\geq 20$"
   ]
  },
  {
   "cell_type": "code",
   "execution_count": 3,
   "metadata": {},
   "outputs": [],
   "source": [
    "import random as rd\n",
    "def avgWaitTime(N):\n",
    "    avg_time = 0\n",
    "    for i in range(N):\n",
    "        t1 = rd.randint(0, 60)\n",
    "        t2 = rd.randint(0, 60)\n",
    "        if(abs(t1 - t2)) <= 20:\n",
    "            avg_time += abs(t1 - t2)\n",
    "        else:\n",
    "            avg_time +=  20\n",
    "    return avg_time/N        "
   ]
  },
  {
   "cell_type": "code",
   "execution_count": 7,
   "metadata": {},
   "outputs": [
    {
     "name": "stdout",
     "output_type": "stream",
     "text": [
      "Thời gian chờ trung bình là: 14.18142 phút.\n"
     ]
    }
   ],
   "source": [
    "N = 100000\n",
    "print(\"Thời gian chờ trung bình là:\",  avgWaitTime(N), \"phút.\")"
   ]
  }
 ],
 "metadata": {
  "kernelspec": {
   "display_name": "Python 3",
   "language": "python",
   "name": "python3"
  },
  "language_info": {
   "codemirror_mode": {
    "name": "ipython",
    "version": 3
   },
   "file_extension": ".py",
   "mimetype": "text/x-python",
   "name": "python",
   "nbconvert_exporter": "python",
   "pygments_lexer": "ipython3",
   "version": "3.8.5"
  }
 },
 "nbformat": 4,
 "nbformat_minor": 4
}
